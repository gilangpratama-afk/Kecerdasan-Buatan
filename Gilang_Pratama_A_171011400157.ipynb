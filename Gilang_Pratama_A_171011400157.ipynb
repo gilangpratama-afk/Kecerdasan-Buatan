{
  "nbformat": 4,
  "nbformat_minor": 0,
  "metadata": {
    "colab": {
      "name": "Gilang Pratama A_171011400157.ipynb",
      "provenance": [],
      "collapsed_sections": [],
      "include_colab_link": true
    },
    "kernelspec": {
      "name": "python3",
      "display_name": "Python 3"
    }
  },
  "cells": [
    {
      "cell_type": "markdown",
      "metadata": {
        "id": "view-in-github",
        "colab_type": "text"
      },
      "source": [
        "<a href=\"https://colab.research.google.com/github/gilangpratama-afk/Kecerdasan-Buatan/blob/main/Gilang_Pratama_A_171011400157.ipynb\" target=\"_parent\"><img src=\"https://colab.research.google.com/assets/colab-badge.svg\" alt=\"Open In Colab\"/></a>"
      ]
    },
    {
      "cell_type": "code",
      "metadata": {
        "id": "FG18awvaH4Ph"
      },
      "source": [
        "import pandas as pd\n",
        "import pydotplus #pip install pydotplus\n",
        "from sklearn.tree import export_graphviz\n",
        "from sklearn.tree import DecisionTreeClassifier\n",
        "import numpy as np\n",
        "from matplotlib import pyplot as plt"
      ],
      "execution_count": null,
      "outputs": []
    },
    {
      "cell_type": "code",
      "metadata": {
        "id": "fB5VKD8_XYYU"
      },
      "source": [
        ""
      ],
      "execution_count": null,
      "outputs": []
    },
    {
      "cell_type": "code",
      "metadata": {
        "id": "JVTRtawqWvYF"
      },
      "source": [
        ""
      ],
      "execution_count": null,
      "outputs": []
    },
    {
      "cell_type": "code",
      "metadata": {
        "id": "plcs9u2TQE0s",
        "colab": {
          "base_uri": "https://localhost:8080/",
          "height": 197
        },
        "outputId": "833dba6b-0373-45ce-88b4-832d80dec8ef"
      },
      "source": [
        " data = pd.DataFrame({'Tinggi':[170,165,180,176,182],\n",
        "                      'Berat Badan' :[53,51,56,55,56],\n",
        "                                            'Ukuran Sepatu' :[31,32,33,33,34],\n",
        "                                            'Panjang Rambut' :[2,14,1,2,3],\n",
        "                                            'Panjang Kaki' :[101,95,99,102,90],\n",
        "                                'Jenis Kelamin':[1,0,1,0,1]})\n",
        "df = pd.DataFrame(data)\n",
        " \n",
        "df.head()"
      ],
      "execution_count": null,
      "outputs": [
        {
          "output_type": "execute_result",
          "data": {
            "text/html": [
              "<div>\n",
              "<style scoped>\n",
              "    .dataframe tbody tr th:only-of-type {\n",
              "        vertical-align: middle;\n",
              "    }\n",
              "\n",
              "    .dataframe tbody tr th {\n",
              "        vertical-align: top;\n",
              "    }\n",
              "\n",
              "    .dataframe thead th {\n",
              "        text-align: right;\n",
              "    }\n",
              "</style>\n",
              "<table border=\"1\" class=\"dataframe\">\n",
              "  <thead>\n",
              "    <tr style=\"text-align: right;\">\n",
              "      <th></th>\n",
              "      <th>Tinggi</th>\n",
              "      <th>Berat Badan</th>\n",
              "      <th>Ukuran Sepatu</th>\n",
              "      <th>Panjang Rambut</th>\n",
              "      <th>Panjang Kaki</th>\n",
              "      <th>Jenis Kelamin</th>\n",
              "    </tr>\n",
              "  </thead>\n",
              "  <tbody>\n",
              "    <tr>\n",
              "      <th>0</th>\n",
              "      <td>170</td>\n",
              "      <td>53</td>\n",
              "      <td>31</td>\n",
              "      <td>2</td>\n",
              "      <td>101</td>\n",
              "      <td>1</td>\n",
              "    </tr>\n",
              "    <tr>\n",
              "      <th>1</th>\n",
              "      <td>165</td>\n",
              "      <td>51</td>\n",
              "      <td>32</td>\n",
              "      <td>14</td>\n",
              "      <td>95</td>\n",
              "      <td>0</td>\n",
              "    </tr>\n",
              "    <tr>\n",
              "      <th>2</th>\n",
              "      <td>180</td>\n",
              "      <td>56</td>\n",
              "      <td>33</td>\n",
              "      <td>1</td>\n",
              "      <td>99</td>\n",
              "      <td>1</td>\n",
              "    </tr>\n",
              "    <tr>\n",
              "      <th>3</th>\n",
              "      <td>176</td>\n",
              "      <td>55</td>\n",
              "      <td>33</td>\n",
              "      <td>2</td>\n",
              "      <td>102</td>\n",
              "      <td>0</td>\n",
              "    </tr>\n",
              "    <tr>\n",
              "      <th>4</th>\n",
              "      <td>182</td>\n",
              "      <td>56</td>\n",
              "      <td>34</td>\n",
              "      <td>3</td>\n",
              "      <td>90</td>\n",
              "      <td>1</td>\n",
              "    </tr>\n",
              "  </tbody>\n",
              "</table>\n",
              "</div>"
            ],
            "text/plain": [
              "   Tinggi  Berat Badan  ...  Panjang Kaki  Jenis Kelamin\n",
              "0     170           53  ...           101              1\n",
              "1     165           51  ...            95              0\n",
              "2     180           56  ...            99              1\n",
              "3     176           55  ...           102              0\n",
              "4     182           56  ...            90              1\n",
              "\n",
              "[5 rows x 6 columns]"
            ]
          },
          "metadata": {
            "tags": []
          },
          "execution_count": 24
        }
      ]
    },
    {
      "cell_type": "code",
      "metadata": {
        "id": "JKEIlN4JwMkP"
      },
      "source": [
        "def tree_graph_to_png(tree, feature_names, png_file_to_save):\n",
        "    tree_str = export_graphviz(tree, feature_names=feature_names, \n",
        "                                     filled=True, out_file=None)\n",
        "    graph = pydotplus.graph_from_dot_data(tree_str)  \n",
        "    graph.write_png(png_file_to_save)"
      ],
      "execution_count": null,
      "outputs": []
    },
    {
      "cell_type": "code",
      "metadata": {
        "id": "Zk5INpKcPWuB"
      },
      "source": [
        "#define Decision Tree\n",
        "dt = DecisionTreeClassifier(criterion = 'entropy')\n",
        "#Define input vectors\n",
        "#X is the features in this dataset\n",
        "X = data['Berat Badan'].values.reshape(-1, 1)\n",
        "#Y is the vector with our Target Variables\n",
        "Y = data['Jenis Kelamin'].values\n",
        "#start fitting process\n",
        "dt.fit(X, Y)\n",
        " \n",
        "tree_graph_to_png(dt, feature_names=['Berat Badan'], \n",
        "                 png_file_to_save='dt.png')"
      ],
      "execution_count": null,
      "outputs": []
    },
    {
      "cell_type": "code",
      "metadata": {
        "colab": {
          "base_uri": "https://localhost:8080/"
        },
        "id": "cjewRciXPh34",
        "outputId": "a59023b4-6004-4d09-e527-ba43f1f54813"
      },
      "source": [
        " d  = np.array([168, 52, 42, 5,95,])\n",
        "d=d.reshape(-1, 1)\n",
        " \n",
        "dt.predict(d)"
      ],
      "execution_count": null,
      "outputs": [
        {
          "output_type": "execute_result",
          "data": {
            "text/plain": [
              "array([1, 0, 0, 0, 1])"
            ]
          },
          "metadata": {
            "tags": []
          },
          "execution_count": 27
        }
      ]
    }
  ]
}